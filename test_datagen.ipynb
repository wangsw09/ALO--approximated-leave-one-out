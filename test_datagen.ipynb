{
 "cells": [
  {
   "cell_type": "code",
   "execution_count": 1,
   "metadata": {},
   "outputs": [],
   "source": [
    "import json\n",
    "\n",
    "import numpy as np\n",
    "import numpy.random as npr\n",
    "import numpy.linalg as npla\n",
    "import scipy.linalg as spla\n",
    "\n",
    "import datagen"
   ]
  },
  {
   "cell_type": "code",
   "execution_count": 30,
   "metadata": {},
   "outputs": [],
   "source": [
    "# linear, iid Gaussian design, iid Gaussian noise\n",
    "model_spec = {\"model_type\" : \"linear\",\n",
    "              \"is_design_iid\" : True,\n",
    "              \"design_distribution\" : \"normal\",\n",
    "              \"design_mean\" : 0.0,\n",
    "              \"design_scale\" : 1.0,\n",
    "              \"design_prob\" : None,\n",
    "              \"signal_type\" : \"dense\",\n",
    "              \"signal_distribution\" : \"normal\",\n",
    "              \"signal_scale\" : 3.0,\n",
    "              \"is_noise_iid\" : True,\n",
    "              \"noise_tail\" : \"normal\",\n",
    "              \"noise_scale\" : 1.0\n",
    "             }\n",
    "y, X, beta = datagen.model((300, 100), **model_spec)"
   ]
  },
  {
   "cell_type": "code",
   "execution_count": 32,
   "metadata": {},
   "outputs": [],
   "source": [
    "# linear, iid Bernoulli design, iid Gaussian noise\n",
    "model_spec = {\"model_type\" : \"linear\",\n",
    "              \"is_design_iid\" : True,\n",
    "              \"design_distribution\" : \"bern\",\n",
    "              \"design_mean\" : None,\n",
    "              \"design_scale\" : None,\n",
    "              \"design_prob\" : 0.5,\n",
    "              \"signal_type\" : \"dense\",\n",
    "              \"signal_sparsity\" : 0.8,\n",
    "              \"signal_distribution\" : \"normal\",\n",
    "              \"signal_scale\" : 3.0,\n",
    "              \"is_noise_iid\" : True,\n",
    "              \"noise_tail\" : \"normal\",\n",
    "              \"noise_scale\" : 1.0\n",
    "             }\n",
    "y, X, beta = datagen.model((300, 100), **model_spec)"
   ]
  },
  {
   "cell_type": "code",
   "execution_count": 37,
   "metadata": {},
   "outputs": [],
   "source": [
    "# linear, iid Exponential design, iid Gaussian noise\n",
    "model_spec = {\"model_type\" : \"linear\",\n",
    "              \"is_design_iid\" : True,\n",
    "              \"design_distribution\" : \"expon\",\n",
    "              \"design_mean\" : None,\n",
    "              \"design_scale\" : 2.0,\n",
    "              \"design_prob\" : None,\n",
    "              \"signal_type\" : \"dense\",\n",
    "              \"signal_distribution\" : \"normal\",\n",
    "              \"signal_scale\" : 3.0,\n",
    "              \"is_noise_iid\" : True,\n",
    "              \"noise_tail\" : \"normal\",\n",
    "              \"noise_scale\" : 1.0\n",
    "             }\n",
    "y, X, beta = datagen.model((300, 100), **model_spec)"
   ]
  },
  {
   "cell_type": "code",
   "execution_count": 9,
   "metadata": {
    "collapsed": true
   },
   "outputs": [],
   "source": [
    "# linear, iid Gaussian design, iid Laplace/cauchy noise\n",
    "model_spec = {\"model_type\" : \"linear\",\n",
    "              \"is_design_iid\" : True,\n",
    "              \"design_distribution\" : \"normal\",\n",
    "              \"design_mean\" : 0.0,\n",
    "              \"design_scale\" : 1.0,\n",
    "              \"design_prob\" : None,\n",
    "              \"signal_type\" : \"dense\",\n",
    "              \"signal_distribution\" : \"normal\",\n",
    "              \"signal_scale\" : 3.0,\n",
    "              \"is_noise_iid\" : True,\n",
    "              \"noise_tail\" : \"laplace\",  # or \"cauchy\"\n",
    "              \"noise_scale\" : 1.0\n",
    "             }\n",
    "y, X, beta = datagen.model((300, 100), **model_spec)"
   ]
  },
  {
   "cell_type": "code",
   "execution_count": 11,
   "metadata": {
    "collapsed": true
   },
   "outputs": [],
   "source": [
    "# logistic, iid Gaussian design\n",
    "model_spec = {\"model_type\" : \"logistic\",\n",
    "              \"is_design_iid\" : True,\n",
    "              \"design_distribution\" : \"normal\",\n",
    "              \"design_mean\" : 0.0,\n",
    "              \"design_scale\" : 1.0,\n",
    "              \"design_prob\" : None,\n",
    "              \"signal_type\" : \"dense\",\n",
    "              \"signal_distribution\" : \"normal\",\n",
    "              \"signal_scale\" : 3.0,\n",
    "              \"is_noise_iid\" : True,\n",
    "              \"noise_tail\" : None,\n",
    "              \"noise_scale\" : None\n",
    "             }\n",
    "y, X, beta = datagen.model((300, 100), **model_spec)"
   ]
  },
  {
   "cell_type": "code",
   "execution_count": 13,
   "metadata": {
    "collapsed": true
   },
   "outputs": [],
   "source": [
    "# logistic, iid Bernoulli design\n",
    "model_spec = {\"model_type\" : \"logistic\",\n",
    "              \"is_design_iid\" : True,\n",
    "              \"design_distribution\" : \"bern\",\n",
    "              \"design_mean\" : None,\n",
    "              \"design_scale\" : None,\n",
    "              \"design_prob\" : 0.5,\n",
    "              \"signal_type\" : \"dense\",\n",
    "              \"signal_distribution\" : \"normal\",\n",
    "              \"signal_scale\" : 3.0,\n",
    "              \"is_noise_iid\" : True,\n",
    "              \"noise_tail\" : None,\n",
    "              \"noise_scale\" : None\n",
    "             }\n",
    "y, X, beta = datagen.model((300, 100), **model_spec)"
   ]
  },
  {
   "cell_type": "code",
   "execution_count": 10,
   "metadata": {},
   "outputs": [],
   "source": [
    "# linear, iid Gaussian design, iid Gaussian noise, sparse signal\n",
    "model_spec = {\"model_type\" : \"linear\",\n",
    "              \"is_design_iid\" : True,\n",
    "              \"design_distribution\" : \"normal\",\n",
    "              \"design_mean\" : 0.0,\n",
    "              \"design_scale\" : 1.0,\n",
    "              \"design_prob\" : None,\n",
    "              \"signal_type\" : \"sparse\",\n",
    "              \"signal_sparsity\" : 0.8,\n",
    "              \"signal_distribution\" : \"normal\",\n",
    "              \"signal_scale\" : 3.0,\n",
    "              \"is_noise_iid\" : True,\n",
    "              \"noise_tail\" : \"normal\",\n",
    "              \"noise_scale\" : 2.0\n",
    "             }\n",
    "y, X, beta = datagen.model((300, 100), **model_spec)"
   ]
  },
  {
   "cell_type": "code",
   "execution_count": 18,
   "metadata": {
    "collapsed": true
   },
   "outputs": [],
   "source": [
    "# linear, iid Gaussian design, iid Gaussian noise, positive signal\n",
    "model_spec = {\"model_type\" : \"linear\",\n",
    "              \"is_design_iid\" : True,\n",
    "              \"design_distribution\" : \"normal\",\n",
    "              \"design_mean\" : 0.0,\n",
    "              \"design_scale\" : 1.0,\n",
    "              \"design_prob\" : None,\n",
    "              \"signal_type\" : \"positive\",\n",
    "              \"signal_sparsity\" : None,\n",
    "              \"signal_distribution\" : \"normal\",\n",
    "              \"signal_scale\" : 3.0,\n",
    "              \"is_noise_iid\" : True,\n",
    "              \"noise_tail\" : \"normal\",\n",
    "              \"noise_scale\" : 2.0\n",
    "             }\n",
    "y, X, beta = datagen.model((300, 100), **model_spec)"
   ]
  },
  {
   "cell_type": "code",
   "execution_count": 2,
   "metadata": {},
   "outputs": [],
   "source": [
    "# linear, correlated Gaussian design, iid Gaussian noise\n",
    "model_spec = {\"model_type\" : \"linear\",\n",
    "              \"is_design_iid\" : False,\n",
    "              \"design_distribution\" : \"normal\",\n",
    "              \"design_mean\" : 0.0,\n",
    "              \"design_scale\" : 1.0,\n",
    "              \"design_prob\" : None,\n",
    "              \"design_corr_strength\" : 0.8,\n",
    "              \"design_corr_type\" : \"toeplitz\",\n",
    "              \"signal_type\" : \"positive\",\n",
    "              \"signal_sparsity\" : None,\n",
    "              \"signal_distribution\" : \"normal\",\n",
    "              \"signal_scale\" : 3.0,\n",
    "              \"is_noise_iid\" : True,\n",
    "              \"noise_tail\" : \"normal\",\n",
    "              \"noise_scale\" : 2.0\n",
    "             }\n",
    "y, X, beta = datagen.model((300, 100), **model_spec)"
   ]
  },
  {
   "cell_type": "code",
   "execution_count": 2,
   "metadata": {},
   "outputs": [],
   "source": [
    "# linear, correlated Gaussian design, correlated Gaussian noise\n",
    "model_spec = {\"model_type\" : \"linear\",\n",
    "              \"is_design_iid\" : False,\n",
    "              \"design_distribution\" : \"normal\",\n",
    "              \"design_mean\" : 0.0,\n",
    "              \"design_scale\" : 1.0,\n",
    "              \"design_prob\" : None,\n",
    "              \"design_corr_strength\" : 0.8,\n",
    "              \"design_corr_type\" : \"toeplitz\",\n",
    "              \"signal_type\" : \"positive\",\n",
    "              \"signal_sparsity\" : None,\n",
    "              \"signal_distribution\" : \"normal\",\n",
    "              \"signal_scale\" : 3.0,\n",
    "              \"is_noise_iid\" : False,\n",
    "              \"noise_tail\" : \"normal\",\n",
    "              \"noise_scale\" : 2.0,\n",
    "              \"noise_corr_strength\" : 0.9,\n",
    "              \"noise_corr_type\" : \"toeplitz\"\n",
    "             }\n",
    "y, X, beta = datagen.model((300, 100), **model_spec)"
   ]
  },
  {
   "cell_type": "code",
   "execution_count": null,
   "metadata": {
    "collapsed": true
   },
   "outputs": [],
   "source": []
  }
 ],
 "metadata": {
  "kernelspec": {
   "display_name": "Python 2",
   "language": "python",
   "name": "python2"
  },
  "language_info": {
   "codemirror_mode": {
    "name": "ipython",
    "version": 2
   },
   "file_extension": ".py",
   "mimetype": "text/x-python",
   "name": "python",
   "nbconvert_exporter": "python",
   "pygments_lexer": "ipython2",
   "version": "2.7.13"
  }
 },
 "nbformat": 4,
 "nbformat_minor": 2
}
